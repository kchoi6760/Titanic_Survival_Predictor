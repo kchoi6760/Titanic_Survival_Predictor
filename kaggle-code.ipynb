{
 "cells": [
  {
   "cell_type": "code",
   "execution_count": 1,
   "id": "11fc7b87",
   "metadata": {
    "_cell_guid": "b1076dfc-b9ad-4769-8c92-a6c4dae69d19",
    "_uuid": "8f2839f25d086af736a60e9eeb907d3b93b6e0e5",
    "execution": {
     "iopub.execute_input": "2023-10-10T02:21:15.390847Z",
     "iopub.status.busy": "2023-10-10T02:21:15.390478Z",
     "iopub.status.idle": "2023-10-10T02:21:17.767395Z",
     "shell.execute_reply": "2023-10-10T02:21:17.766693Z"
    },
    "papermill": {
     "duration": 2.38662,
     "end_time": "2023-10-10T02:21:17.771602",
     "exception": false,
     "start_time": "2023-10-10T02:21:15.384982",
     "status": "completed"
    },
    "tags": []
   },
   "outputs": [
    {
     "name": "stdout",
     "output_type": "stream",
     "text": [
      "(891, 12)\n"
     ]
    },
    {
     "data": {
      "text/html": [
       "<div>\n",
       "<style scoped>\n",
       "    .dataframe tbody tr th:only-of-type {\n",
       "        vertical-align: middle;\n",
       "    }\n",
       "\n",
       "    .dataframe tbody tr th {\n",
       "        vertical-align: top;\n",
       "    }\n",
       "\n",
       "    .dataframe thead th {\n",
       "        text-align: right;\n",
       "    }\n",
       "</style>\n",
       "<table border=\"1\" class=\"dataframe\">\n",
       "  <thead>\n",
       "    <tr style=\"text-align: right;\">\n",
       "      <th></th>\n",
       "      <th>PassengerId</th>\n",
       "      <th>Pclass</th>\n",
       "      <th>Name</th>\n",
       "      <th>Sex</th>\n",
       "      <th>Age</th>\n",
       "      <th>SibSp</th>\n",
       "      <th>Parch</th>\n",
       "      <th>Ticket</th>\n",
       "      <th>Fare</th>\n",
       "      <th>Cabin</th>\n",
       "      <th>Embarked</th>\n",
       "    </tr>\n",
       "  </thead>\n",
       "  <tbody>\n",
       "    <tr>\n",
       "      <th>0</th>\n",
       "      <td>892</td>\n",
       "      <td>3</td>\n",
       "      <td>Kelly, Mr. James</td>\n",
       "      <td>male</td>\n",
       "      <td>34.5</td>\n",
       "      <td>0</td>\n",
       "      <td>0</td>\n",
       "      <td>330911</td>\n",
       "      <td>7.8292</td>\n",
       "      <td>NaN</td>\n",
       "      <td>Q</td>\n",
       "    </tr>\n",
       "    <tr>\n",
       "      <th>1</th>\n",
       "      <td>893</td>\n",
       "      <td>3</td>\n",
       "      <td>Wilkes, Mrs. James (Ellen Needs)</td>\n",
       "      <td>female</td>\n",
       "      <td>47.0</td>\n",
       "      <td>1</td>\n",
       "      <td>0</td>\n",
       "      <td>363272</td>\n",
       "      <td>7.0000</td>\n",
       "      <td>NaN</td>\n",
       "      <td>S</td>\n",
       "    </tr>\n",
       "    <tr>\n",
       "      <th>2</th>\n",
       "      <td>894</td>\n",
       "      <td>2</td>\n",
       "      <td>Myles, Mr. Thomas Francis</td>\n",
       "      <td>male</td>\n",
       "      <td>62.0</td>\n",
       "      <td>0</td>\n",
       "      <td>0</td>\n",
       "      <td>240276</td>\n",
       "      <td>9.6875</td>\n",
       "      <td>NaN</td>\n",
       "      <td>Q</td>\n",
       "    </tr>\n",
       "    <tr>\n",
       "      <th>3</th>\n",
       "      <td>895</td>\n",
       "      <td>3</td>\n",
       "      <td>Wirz, Mr. Albert</td>\n",
       "      <td>male</td>\n",
       "      <td>27.0</td>\n",
       "      <td>0</td>\n",
       "      <td>0</td>\n",
       "      <td>315154</td>\n",
       "      <td>8.6625</td>\n",
       "      <td>NaN</td>\n",
       "      <td>S</td>\n",
       "    </tr>\n",
       "    <tr>\n",
       "      <th>4</th>\n",
       "      <td>896</td>\n",
       "      <td>3</td>\n",
       "      <td>Hirvonen, Mrs. Alexander (Helga E Lindqvist)</td>\n",
       "      <td>female</td>\n",
       "      <td>22.0</td>\n",
       "      <td>1</td>\n",
       "      <td>1</td>\n",
       "      <td>3101298</td>\n",
       "      <td>12.2875</td>\n",
       "      <td>NaN</td>\n",
       "      <td>S</td>\n",
       "    </tr>\n",
       "  </tbody>\n",
       "</table>\n",
       "</div>"
      ],
      "text/plain": [
       "   PassengerId  Pclass                                          Name     Sex  \\\n",
       "0          892       3                              Kelly, Mr. James    male   \n",
       "1          893       3              Wilkes, Mrs. James (Ellen Needs)  female   \n",
       "2          894       2                     Myles, Mr. Thomas Francis    male   \n",
       "3          895       3                              Wirz, Mr. Albert    male   \n",
       "4          896       3  Hirvonen, Mrs. Alexander (Helga E Lindqvist)  female   \n",
       "\n",
       "    Age  SibSp  Parch   Ticket     Fare Cabin Embarked  \n",
       "0  34.5      0      0   330911   7.8292   NaN        Q  \n",
       "1  47.0      1      0   363272   7.0000   NaN        S  \n",
       "2  62.0      0      0   240276   9.6875   NaN        Q  \n",
       "3  27.0      0      0   315154   8.6625   NaN        S  \n",
       "4  22.0      1      1  3101298  12.2875   NaN        S  "
      ]
     },
     "execution_count": 1,
     "metadata": {},
     "output_type": "execute_result"
    }
   ],
   "source": [
    "import numpy as np\n",
    "import pandas as pd\n",
    "import seaborn as sns\n",
    "import sklearn.preprocessing\n",
    "from sklearn.preprocessing import StandardScaler\n",
    "from sklearn.linear_model import LogisticRegression\n",
    "from sklearn.tree import DecisionTreeClassifier\n",
    "import matplotlib.pyplot as plt\n",
    "\n",
    "import os;\n",
    "os.listdir('/kaggle/input/')\n",
    "\n",
    "titanic_train = pd.read_csv(\"../input/titanic-data/train.csv\")\n",
    "titanic_test = pd.read_csv(\"../input/titanic-data/test.csv\")\n",
    "print(titanic_train.shape)\n",
    "titanic_test.head()"
   ]
  },
  {
   "cell_type": "code",
   "execution_count": 2,
   "id": "cded1ad6",
   "metadata": {
    "execution": {
     "iopub.execute_input": "2023-10-10T02:21:17.781517Z",
     "iopub.status.busy": "2023-10-10T02:21:17.780931Z",
     "iopub.status.idle": "2023-10-10T02:21:17.792756Z",
     "shell.execute_reply": "2023-10-10T02:21:17.792042Z"
    },
    "papermill": {
     "duration": 0.018854,
     "end_time": "2023-10-10T02:21:17.794531",
     "exception": false,
     "start_time": "2023-10-10T02:21:17.775677",
     "status": "completed"
    },
    "tags": []
   },
   "outputs": [
    {
     "name": "stdout",
     "output_type": "stream",
     "text": [
      "(891, 12)\n"
     ]
    },
    {
     "data": {
      "text/plain": [
       "(549, 342)"
      ]
     },
     "execution_count": 2,
     "metadata": {},
     "output_type": "execute_result"
    }
   ],
   "source": [
    "unsurvivors = len(titanic_train[titanic_train['Survived'] == 0])\n",
    "survivors = len(titanic_train[titanic_train['Survived'] == 1])\n",
    "print(titanic_train.shape)\n",
    "unsurvivors, survivors"
   ]
  },
  {
   "cell_type": "code",
   "execution_count": 3,
   "id": "fbeeabc0",
   "metadata": {
    "execution": {
     "iopub.execute_input": "2023-10-10T02:21:17.804219Z",
     "iopub.status.busy": "2023-10-10T02:21:17.803878Z",
     "iopub.status.idle": "2023-10-10T02:21:17.811081Z",
     "shell.execute_reply": "2023-10-10T02:21:17.810143Z"
    },
    "papermill": {
     "duration": 0.014626,
     "end_time": "2023-10-10T02:21:17.813367",
     "exception": false,
     "start_time": "2023-10-10T02:21:17.798741",
     "status": "completed"
    },
    "tags": []
   },
   "outputs": [
    {
     "name": "stdout",
     "output_type": "stream",
     "text": [
      "PassengerId      int64\n",
      "Survived         int64\n",
      "Pclass           int64\n",
      "Name            object\n",
      "Sex             object\n",
      "Age            float64\n",
      "SibSp            int64\n",
      "Parch            int64\n",
      "Ticket          object\n",
      "Fare           float64\n",
      "Cabin           object\n",
      "Embarked        object\n",
      "dtype: object\n",
      "PassengerId      0\n",
      "Survived         0\n",
      "Pclass           0\n",
      "Name             0\n",
      "Sex              0\n",
      "Age            177\n",
      "SibSp            0\n",
      "Parch            0\n",
      "Ticket           0\n",
      "Fare             0\n",
      "Cabin          687\n",
      "Embarked         2\n",
      "dtype: int64\n"
     ]
    }
   ],
   "source": [
    "#Look for useless features in the data\n",
    "print(titanic_train.dtypes)\n",
    "print(titanic_train.isna().sum())"
   ]
  },
  {
   "cell_type": "markdown",
   "id": "8eaa1ed0",
   "metadata": {
    "papermill": {
     "duration": 0.0037,
     "end_time": "2023-10-10T02:21:17.823482",
     "exception": false,
     "start_time": "2023-10-10T02:21:17.819782",
     "status": "completed"
    },
    "tags": []
   },
   "source": [
    "Based on the information above and from the feature descriptions, there is barely any data on cabin numbers and location embarked from seems like an unnecessary variable. Along with that, the variables name, ticket, and embarked don't show much significance in my opinion, so they are candidates to be dropped as well."
   ]
  },
  {
   "cell_type": "code",
   "execution_count": 4,
   "id": "e162acfd",
   "metadata": {
    "execution": {
     "iopub.execute_input": "2023-10-10T02:21:17.832845Z",
     "iopub.status.busy": "2023-10-10T02:21:17.832461Z",
     "iopub.status.idle": "2023-10-10T02:21:17.868929Z",
     "shell.execute_reply": "2023-10-10T02:21:17.868219Z"
    },
    "papermill": {
     "duration": 0.043266,
     "end_time": "2023-10-10T02:21:17.870746",
     "exception": false,
     "start_time": "2023-10-10T02:21:17.827480",
     "status": "completed"
    },
    "tags": []
   },
   "outputs": [
    {
     "data": {
      "text/plain": [
       "(Sex\n",
       " female    0.742038\n",
       " male      0.188908\n",
       " Name: Survived, dtype: float64,\n",
       " Pclass         1         2         3\n",
       " Sex                                 \n",
       " female  0.968085  0.921053  0.500000\n",
       " male    0.368852  0.157407  0.135447,\n",
       " Sex\n",
       " female    27.915709\n",
       " male      30.726645\n",
       " Name: Age, dtype: float64)"
      ]
     },
     "execution_count": 4,
     "metadata": {},
     "output_type": "execute_result"
    }
   ],
   "source": [
    "#Survival Using M/F\n",
    "survival_rate_sex = titanic_train.groupby('Sex')['Survived'].mean()\n",
    "survival_rate_class = titanic_train.pivot_table('Survived', index = 'Sex', columns = 'Pclass')\n",
    "survival_avg_age = titanic_train.groupby('Sex')['Age'].mean()\n",
    "survival_rate_sex, survival_rate_class, survival_avg_age"
   ]
  },
  {
   "cell_type": "code",
   "execution_count": 5,
   "id": "db3f7fb9",
   "metadata": {
    "execution": {
     "iopub.execute_input": "2023-10-10T02:21:17.881369Z",
     "iopub.status.busy": "2023-10-10T02:21:17.880484Z",
     "iopub.status.idle": "2023-10-10T02:21:17.907823Z",
     "shell.execute_reply": "2023-10-10T02:21:17.906714Z"
    },
    "papermill": {
     "duration": 0.034764,
     "end_time": "2023-10-10T02:21:17.910002",
     "exception": false,
     "start_time": "2023-10-10T02:21:17.875238",
     "status": "completed"
    },
    "tags": []
   },
   "outputs": [
    {
     "data": {
      "text/html": [
       "<div>\n",
       "<style scoped>\n",
       "    .dataframe tbody tr th:only-of-type {\n",
       "        vertical-align: middle;\n",
       "    }\n",
       "\n",
       "    .dataframe tbody tr th {\n",
       "        vertical-align: top;\n",
       "    }\n",
       "\n",
       "    .dataframe thead th {\n",
       "        text-align: right;\n",
       "    }\n",
       "</style>\n",
       "<table border=\"1\" class=\"dataframe\">\n",
       "  <thead>\n",
       "    <tr style=\"text-align: right;\">\n",
       "      <th></th>\n",
       "      <th>Pclass</th>\n",
       "      <th>1</th>\n",
       "      <th>2</th>\n",
       "      <th>3</th>\n",
       "    </tr>\n",
       "    <tr>\n",
       "      <th>Sex</th>\n",
       "      <th>Age</th>\n",
       "      <th></th>\n",
       "      <th></th>\n",
       "      <th></th>\n",
       "    </tr>\n",
       "  </thead>\n",
       "  <tbody>\n",
       "    <tr>\n",
       "      <th rowspan=\"5\" valign=\"top\">female</th>\n",
       "      <th>0.75</th>\n",
       "      <td>NaN</td>\n",
       "      <td>NaN</td>\n",
       "      <td>1.00</td>\n",
       "    </tr>\n",
       "    <tr>\n",
       "      <th>1.00</th>\n",
       "      <td>NaN</td>\n",
       "      <td>NaN</td>\n",
       "      <td>1.00</td>\n",
       "    </tr>\n",
       "    <tr>\n",
       "      <th>2.00</th>\n",
       "      <td>0.0</td>\n",
       "      <td>1.0</td>\n",
       "      <td>0.25</td>\n",
       "    </tr>\n",
       "    <tr>\n",
       "      <th>3.00</th>\n",
       "      <td>NaN</td>\n",
       "      <td>1.0</td>\n",
       "      <td>0.00</td>\n",
       "    </tr>\n",
       "    <tr>\n",
       "      <th>4.00</th>\n",
       "      <td>NaN</td>\n",
       "      <td>1.0</td>\n",
       "      <td>1.00</td>\n",
       "    </tr>\n",
       "    <tr>\n",
       "      <th>...</th>\n",
       "      <th>...</th>\n",
       "      <td>...</td>\n",
       "      <td>...</td>\n",
       "      <td>...</td>\n",
       "    </tr>\n",
       "    <tr>\n",
       "      <th rowspan=\"5\" valign=\"top\">male</th>\n",
       "      <th>70.00</th>\n",
       "      <td>0.0</td>\n",
       "      <td>0.0</td>\n",
       "      <td>NaN</td>\n",
       "    </tr>\n",
       "    <tr>\n",
       "      <th>70.50</th>\n",
       "      <td>NaN</td>\n",
       "      <td>NaN</td>\n",
       "      <td>0.00</td>\n",
       "    </tr>\n",
       "    <tr>\n",
       "      <th>71.00</th>\n",
       "      <td>0.0</td>\n",
       "      <td>NaN</td>\n",
       "      <td>NaN</td>\n",
       "    </tr>\n",
       "    <tr>\n",
       "      <th>74.00</th>\n",
       "      <td>NaN</td>\n",
       "      <td>NaN</td>\n",
       "      <td>0.00</td>\n",
       "    </tr>\n",
       "    <tr>\n",
       "      <th>80.00</th>\n",
       "      <td>1.0</td>\n",
       "      <td>NaN</td>\n",
       "      <td>NaN</td>\n",
       "    </tr>\n",
       "  </tbody>\n",
       "</table>\n",
       "<p>145 rows × 3 columns</p>\n",
       "</div>"
      ],
      "text/plain": [
       "Pclass          1    2     3\n",
       "Sex    Age                  \n",
       "female 0.75   NaN  NaN  1.00\n",
       "       1.00   NaN  NaN  1.00\n",
       "       2.00   0.0  1.0  0.25\n",
       "       3.00   NaN  1.0  0.00\n",
       "       4.00   NaN  1.0  1.00\n",
       "...           ...  ...   ...\n",
       "male   70.00  0.0  0.0   NaN\n",
       "       70.50  NaN  NaN  0.00\n",
       "       71.00  0.0  NaN   NaN\n",
       "       74.00  NaN  NaN  0.00\n",
       "       80.00  1.0  NaN   NaN\n",
       "\n",
       "[145 rows x 3 columns]"
      ]
     },
     "execution_count": 5,
     "metadata": {},
     "output_type": "execute_result"
    }
   ],
   "source": [
    "#Survival Using Class, Age, and Sex\n",
    "old_or_young = ['older' if x >= 18 else 'younger' for x in titanic_train[\"Age\"]]\n",
    "#lower_age = titanic_age[titanic_train[\"Age\"] > 18]\n",
    "titanic_train['Age_split'] = old_or_young\n",
    "\n",
    "#older is 18+ & younger is 0-18\n",
    "titanic_train.pivot_table('Survived', ['Sex', 'Age'], 'Pclass')"
   ]
  },
  {
   "cell_type": "markdown",
   "id": "75b2c0b7",
   "metadata": {
    "papermill": {
     "duration": 0.004051,
     "end_time": "2023-10-10T02:21:17.918538",
     "exception": false,
     "start_time": "2023-10-10T02:21:17.914487",
     "status": "completed"
    },
    "tags": []
   },
   "source": [
    "Based on all this data, we will be using the remaining features and change the categorical data values to a numerical system."
   ]
  },
  {
   "cell_type": "code",
   "execution_count": 6,
   "id": "03003a8d",
   "metadata": {
    "execution": {
     "iopub.execute_input": "2023-10-10T02:21:17.929044Z",
     "iopub.status.busy": "2023-10-10T02:21:17.928336Z",
     "iopub.status.idle": "2023-10-10T02:21:17.938557Z",
     "shell.execute_reply": "2023-10-10T02:21:17.937737Z"
    },
    "papermill": {
     "duration": 0.017652,
     "end_time": "2023-10-10T02:21:17.940449",
     "exception": false,
     "start_time": "2023-10-10T02:21:17.922797",
     "status": "completed"
    },
    "tags": []
   },
   "outputs": [
    {
     "name": "stdout",
     "output_type": "stream",
     "text": [
      "(891, 13)\n"
     ]
    },
    {
     "data": {
      "text/plain": [
       "PassengerId      int64\n",
       "Survived         int64\n",
       "Pclass           int64\n",
       "Name            object\n",
       "Sex              int64\n",
       "Age            float64\n",
       "SibSp            int64\n",
       "Parch            int64\n",
       "Ticket          object\n",
       "Fare           float64\n",
       "Cabin           object\n",
       "Embarked        object\n",
       "Age_split       object\n",
       "dtype: object"
      ]
     },
     "execution_count": 6,
     "metadata": {},
     "output_type": "execute_result"
    }
   ],
   "source": [
    "sex_as_val = [1 if x == 'Male' else 0 for x in titanic_train[\"Age\"]]\n",
    "titanic_train['Sex'] = sex_as_val\n",
    "print(titanic_train.shape)\n",
    "titanic_train.dtypes"
   ]
  },
  {
   "cell_type": "code",
   "execution_count": 7,
   "id": "0aa5e2a6",
   "metadata": {
    "execution": {
     "iopub.execute_input": "2023-10-10T02:21:17.951463Z",
     "iopub.status.busy": "2023-10-10T02:21:17.950607Z",
     "iopub.status.idle": "2023-10-10T02:21:17.962777Z",
     "shell.execute_reply": "2023-10-10T02:21:17.961776Z"
    },
    "papermill": {
     "duration": 0.019893,
     "end_time": "2023-10-10T02:21:17.964964",
     "exception": false,
     "start_time": "2023-10-10T02:21:17.945071",
     "status": "completed"
    },
    "tags": []
   },
   "outputs": [
    {
     "data": {
      "text/plain": [
       "((891, 7),\n",
       " Survived      int64\n",
       " Pclass        int64\n",
       " Sex           int64\n",
       " Age           int64\n",
       " SibSp         int64\n",
       " Parch         int64\n",
       " Fare        float64\n",
       " dtype: object)"
      ]
     },
     "execution_count": 7,
     "metadata": {},
     "output_type": "execute_result"
    }
   ],
   "source": [
    "#Fix Categorical Values\n",
    "titanic_train['Age'] = [1 if x >= 18 else 0 for x in titanic_train[\"Age\"]]\n",
    "titanic_train['Sex'] = [1 if x == 'Male' else 0 for x in titanic_train[\"Sex\"]]\n",
    "\n",
    "#Remove Useless Features\n",
    "titanic_train = titanic_train.drop(['Cabin', 'Embarked', 'Age_split', 'Ticket', 'Name'], axis = 1)\n",
    "titanic_train = titanic_train.set_index('PassengerId')\n",
    "titanic_train.shape, titanic_train.dtypes\n"
   ]
  },
  {
   "cell_type": "code",
   "execution_count": 8,
   "id": "4cdaed9f",
   "metadata": {
    "execution": {
     "iopub.execute_input": "2023-10-10T02:21:17.975801Z",
     "iopub.status.busy": "2023-10-10T02:21:17.975393Z",
     "iopub.status.idle": "2023-10-10T02:21:17.987633Z",
     "shell.execute_reply": "2023-10-10T02:21:17.986609Z"
    },
    "papermill": {
     "duration": 0.020118,
     "end_time": "2023-10-10T02:21:17.989872",
     "exception": false,
     "start_time": "2023-10-10T02:21:17.969754",
     "status": "completed"
    },
    "tags": []
   },
   "outputs": [
    {
     "data": {
      "text/plain": [
       "((418, 6),\n",
       " Pclass      int64\n",
       " Sex         int64\n",
       " Age         int64\n",
       " SibSp       int64\n",
       " Parch       int64\n",
       " Fare      float64\n",
       " dtype: object)"
      ]
     },
     "execution_count": 8,
     "metadata": {},
     "output_type": "execute_result"
    }
   ],
   "source": [
    "#Do same on Test\n",
    "titanic_test['Age'] = [1 if x >= 18 else 0 for x in titanic_test[\"Age\"]]\n",
    "titanic_test['Sex'] = [1 if x == 'Male' else 0 for x in titanic_test[\"Sex\"]]\n",
    "\n",
    "titanic_test = titanic_test.set_index('PassengerId')\n",
    "titanic_test = titanic_test.drop(['Cabin', 'Embarked', 'Ticket', 'Name'], axis = 1)\n",
    "titanic_test.shape, titanic_test.dtypes"
   ]
  },
  {
   "cell_type": "code",
   "execution_count": 9,
   "id": "e6d8034f",
   "metadata": {
    "execution": {
     "iopub.execute_input": "2023-10-10T02:21:18.001428Z",
     "iopub.status.busy": "2023-10-10T02:21:18.000789Z",
     "iopub.status.idle": "2023-10-10T02:21:18.006631Z",
     "shell.execute_reply": "2023-10-10T02:21:18.005687Z"
    },
    "papermill": {
     "duration": 0.013966,
     "end_time": "2023-10-10T02:21:18.008771",
     "exception": false,
     "start_time": "2023-10-10T02:21:17.994805",
     "status": "completed"
    },
    "tags": []
   },
   "outputs": [],
   "source": [
    "titanic_test = titanic_test.fillna(0)\n",
    "#Separate X, Y, Train, Test Properly\n",
    "Y_train = titanic_train.iloc[:, 0]\n",
    "X_train = titanic_train.iloc[:, 1:]\n",
    "X_test = titanic_test.fillna(0)"
   ]
  },
  {
   "cell_type": "code",
   "execution_count": 10,
   "id": "e8441ed6",
   "metadata": {
    "execution": {
     "iopub.execute_input": "2023-10-10T02:21:18.019818Z",
     "iopub.status.busy": "2023-10-10T02:21:18.019423Z",
     "iopub.status.idle": "2023-10-10T02:21:18.031760Z",
     "shell.execute_reply": "2023-10-10T02:21:18.030437Z"
    },
    "papermill": {
     "duration": 0.02013,
     "end_time": "2023-10-10T02:21:18.033898",
     "exception": false,
     "start_time": "2023-10-10T02:21:18.013768",
     "status": "completed"
    },
    "tags": []
   },
   "outputs": [],
   "source": [
    "#Scale data to Normalize\n",
    "scalar = StandardScaler()\n",
    "X_train = scalar.fit_transform(X_train)\n",
    "X_test = scalar.transform(titanic_test)"
   ]
  },
  {
   "cell_type": "code",
   "execution_count": 11,
   "id": "d146ce1f",
   "metadata": {
    "execution": {
     "iopub.execute_input": "2023-10-10T02:21:18.044995Z",
     "iopub.status.busy": "2023-10-10T02:21:18.044608Z",
     "iopub.status.idle": "2023-10-10T02:21:18.051547Z",
     "shell.execute_reply": "2023-10-10T02:21:18.050343Z"
    },
    "papermill": {
     "duration": 0.014837,
     "end_time": "2023-10-10T02:21:18.053722",
     "exception": false,
     "start_time": "2023-10-10T02:21:18.038885",
     "status": "completed"
    },
    "tags": []
   },
   "outputs": [
    {
     "name": "stdout",
     "output_type": "stream",
     "text": [
      "Pclass    0\n",
      "Sex       0\n",
      "Age       0\n",
      "SibSp     0\n",
      "Parch     0\n",
      "Fare      0\n",
      "dtype: int64\n"
     ]
    }
   ],
   "source": [
    "#Check Test Data\n",
    "print(titanic_test.isna().sum())"
   ]
  },
  {
   "cell_type": "code",
   "execution_count": 12,
   "id": "c6850d98",
   "metadata": {
    "execution": {
     "iopub.execute_input": "2023-10-10T02:21:18.065174Z",
     "iopub.status.busy": "2023-10-10T02:21:18.064491Z",
     "iopub.status.idle": "2023-10-10T02:21:18.081430Z",
     "shell.execute_reply": "2023-10-10T02:21:18.080373Z"
    },
    "papermill": {
     "duration": 0.024754,
     "end_time": "2023-10-10T02:21:18.083479",
     "exception": false,
     "start_time": "2023-10-10T02:21:18.058725",
     "status": "completed"
    },
    "tags": []
   },
   "outputs": [
    {
     "name": "stdout",
     "output_type": "stream",
     "text": [
      "Logistical Regression Score: 0.696969696969697\n"
     ]
    }
   ],
   "source": [
    "#Trying different Methods\n",
    "\n",
    "#Logistical Regression\n",
    "lg = LogisticRegression(random_state = 42)\n",
    "lg.fit(X_train, Y_train)\n",
    "print('Logistical Regression Score:', lg.score(X_train, Y_train))\n",
    "lg_prediction = lg.predict(X_test)"
   ]
  },
  {
   "cell_type": "code",
   "execution_count": 13,
   "id": "2eaf3b5f",
   "metadata": {
    "execution": {
     "iopub.execute_input": "2023-10-10T02:21:18.095209Z",
     "iopub.status.busy": "2023-10-10T02:21:18.094489Z",
     "iopub.status.idle": "2023-10-10T02:21:18.102198Z",
     "shell.execute_reply": "2023-10-10T02:21:18.101372Z"
    },
    "papermill": {
     "duration": 0.016601,
     "end_time": "2023-10-10T02:21:18.105021",
     "exception": false,
     "start_time": "2023-10-10T02:21:18.088420",
     "status": "completed"
    },
    "tags": []
   },
   "outputs": [],
   "source": [
    "#Turn my predictions into a DataFrame\n",
    "\n",
    "preditions = pd.DataFrame(data = lg_prediction, index = titanic_test.index)\n",
    "tada = preditions.to_csv()"
   ]
  },
  {
   "cell_type": "code",
   "execution_count": null,
   "id": "fb1c736f",
   "metadata": {
    "papermill": {
     "duration": 0.004708,
     "end_time": "2023-10-10T02:21:18.114838",
     "exception": false,
     "start_time": "2023-10-10T02:21:18.110130",
     "status": "completed"
    },
    "tags": []
   },
   "outputs": [],
   "source": []
  }
 ],
 "metadata": {
  "kernelspec": {
   "display_name": "Python 3",
   "language": "python",
   "name": "python3"
  },
  "language_info": {
   "codemirror_mode": {
    "name": "ipython",
    "version": 3
   },
   "file_extension": ".py",
   "mimetype": "text/x-python",
   "name": "python",
   "nbconvert_exporter": "python",
   "pygments_lexer": "ipython3",
   "version": "3.10.12"
  },
  "papermill": {
   "default_parameters": {},
   "duration": 6.492222,
   "end_time": "2023-10-10T02:21:18.739421",
   "environment_variables": {},
   "exception": null,
   "input_path": "__notebook__.ipynb",
   "output_path": "__notebook__.ipynb",
   "parameters": {},
   "start_time": "2023-10-10T02:21:12.247199",
   "version": "2.4.0"
  }
 },
 "nbformat": 4,
 "nbformat_minor": 5
}
